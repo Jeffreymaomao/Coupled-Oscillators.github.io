{
 "cells": [
  {
   "cell_type": "markdown",
   "id": "77fe00bc",
   "metadata": {},
   "source": [
    "# Eigenmode Calculation"
   ]
  },
  {
   "cell_type": "code",
   "execution_count": 113,
   "id": "e2f8cccf",
   "metadata": {},
   "outputs": [],
   "source": [
    "import sympy as sp\n",
    "from IPython.display import display, Math"
   ]
  },
  {
   "cell_type": "code",
   "execution_count": 9,
   "id": "d30658a9",
   "metadata": {},
   "outputs": [],
   "source": [
    "(k1, k2, k3, m1, m2) = sp.symbols(\"k1, k2, k3, m1, m2\")"
   ]
  },
  {
   "cell_type": "code",
   "execution_count": 10,
   "id": "61296916",
   "metadata": {},
   "outputs": [],
   "source": [
    "F = sp.Matrix([\n",
    "    [-(k1+k2)/m1,       k2/m1],\n",
    "    [      k2/m1, -(k2+k3)/m2],\n",
    "])"
   ]
  },
  {
   "cell_type": "code",
   "execution_count": 128,
   "id": "751c1ba8",
   "metadata": {},
   "outputs": [],
   "source": [
    "\"\"\"\n",
    "Matrix.eigenvects() => return\n",
    "[\n",
    "    (eigenval, multiplicity, eigenspace),\n",
    "    (eigenval, multiplicity, eigenspace),\n",
    "        :           :            :       \n",
    "        :           :            :\n",
    "    (eigenval, multiplicity, eigenspace)\n",
    "]\n",
    "\"\"\"\n",
    "eigenvec = F.eigenvects()"
   ]
  },
  {
   "cell_type": "code",
   "execution_count": 108,
   "id": "d1547be2",
   "metadata": {},
   "outputs": [],
   "source": [
    "eigenval1 = eigenvec[0][0].simplify()\n",
    "eigenval2 = eigenvec[1][0].simplify()\n",
    "\n",
    "eigenvec1 = eigenvec[0][2][0]\n",
    "eigenvec2 = eigenvec[1][2][0]"
   ]
  },
  {
   "cell_type": "code",
   "execution_count": 135,
   "id": "4fe9c0c7",
   "metadata": {},
   "outputs": [
    {
     "data": {
      "text/latex": [
       "$\\displaystyle \\lambda_1 = \\frac{- k_{1} m_{2} - k_{2} m_{1} - k_{2} m_{2} - k_{3} m_{1} - \\sqrt{k_{1}^{2} m_{2}^{2} - 2 k_{1} k_{2} m_{1} m_{2} + 2 k_{1} k_{2} m_{2}^{2} - 2 k_{1} k_{3} m_{1} m_{2} + k_{2}^{2} m_{1}^{2} - 2 k_{2}^{2} m_{1} m_{2} + 5 k_{2}^{2} m_{2}^{2} + 2 k_{2} k_{3} m_{1}^{2} - 2 k_{2} k_{3} m_{1} m_{2} + k_{3}^{2} m_{1}^{2}}}{2 m_{1} m_{2}}$"
      ],
      "text/plain": [
       "<IPython.core.display.Math object>"
      ]
     },
     "metadata": {},
     "output_type": "display_data"
    },
    {
     "data": {
      "text/latex": [
       "$\\displaystyle \\mu_1 = \\left[\\begin{matrix}\\displaystyle\\frac{- k_{1} m_{2} + k_{2} m_{1} - k_{2} m_{2} + k_{3} m_{1} - \\sqrt{k_{1}^{2} m_{2}^{2} - 2 k_{1} k_{2} m_{1} m_{2} + 2 k_{1} k_{2} m_{2}^{2} - 2 k_{1} k_{3} m_{1} m_{2} + k_{2}^{2} m_{1}^{2} - 2 k_{2}^{2} m_{1} m_{2} + 5 k_{2}^{2} m_{2}^{2} + 2 k_{2} k_{3} m_{1}^{2} - 2 k_{2} k_{3} m_{1} m_{2} + k_{3}^{2} m_{1}^{2}}}{2 k_{2} m_{2}}\\\\1\\end{matrix}\\right]$"
      ],
      "text/plain": [
       "<IPython.core.display.Math object>"
      ]
     },
     "metadata": {},
     "output_type": "display_data"
    }
   ],
   "source": [
    "display(Math(\"\\\\lambda_1 = \"+ sp.latex(eigenval1)))\n",
    "display(Math(\"\\\\mu_1 = \"    + sp.latex(eigenvec1).replace('\\\\frac','\\\\displaystyle\\\\frac')))"
   ]
  },
  {
   "cell_type": "code",
   "execution_count": 136,
   "id": "404c5552",
   "metadata": {
    "scrolled": false
   },
   "outputs": [
    {
     "data": {
      "text/latex": [
       "$\\displaystyle \\lambda_2 = \\frac{- k_{1} m_{2} - k_{2} m_{1} - k_{2} m_{2} - k_{3} m_{1} + \\sqrt{k_{1}^{2} m_{2}^{2} - 2 k_{1} k_{2} m_{1} m_{2} + 2 k_{1} k_{2} m_{2}^{2} - 2 k_{1} k_{3} m_{1} m_{2} + k_{2}^{2} m_{1}^{2} - 2 k_{2}^{2} m_{1} m_{2} + 5 k_{2}^{2} m_{2}^{2} + 2 k_{2} k_{3} m_{1}^{2} - 2 k_{2} k_{3} m_{1} m_{2} + k_{3}^{2} m_{1}^{2}}}{2 m_{1} m_{2}}$"
      ],
      "text/plain": [
       "<IPython.core.display.Math object>"
      ]
     },
     "metadata": {},
     "output_type": "display_data"
    },
    {
     "data": {
      "text/latex": [
       "$\\displaystyle \\mu_2 = \\left[\\begin{matrix}\\displaystyle\\frac{- k_{1} m_{2} + k_{2} m_{1} - k_{2} m_{2} + k_{3} m_{1} + \\sqrt{k_{1}^{2} m_{2}^{2} - 2 k_{1} k_{2} m_{1} m_{2} + 2 k_{1} k_{2} m_{2}^{2} - 2 k_{1} k_{3} m_{1} m_{2} + k_{2}^{2} m_{1}^{2} - 2 k_{2}^{2} m_{1} m_{2} + 5 k_{2}^{2} m_{2}^{2} + 2 k_{2} k_{3} m_{1}^{2} - 2 k_{2} k_{3} m_{1} m_{2} + k_{3}^{2} m_{1}^{2}}}{2 k_{2} m_{2}}\\\\1\\end{matrix}\\right]$"
      ],
      "text/plain": [
       "<IPython.core.display.Math object>"
      ]
     },
     "metadata": {},
     "output_type": "display_data"
    }
   ],
   "source": [
    "display(Math(\"\\\\lambda_2 = \"+ sp.latex(eigenval2)))\n",
    "display(Math(\"\\\\mu_2 = \"    + sp.latex(eigenvec2).replace('\\\\frac','\\\\displaystyle\\\\frac')))"
   ]
  }
 ],
 "metadata": {
  "kernelspec": {
   "display_name": "Python 3",
   "language": "python",
   "name": "python3"
  },
  "language_info": {
   "codemirror_mode": {
    "name": "ipython",
    "version": 3
   },
   "file_extension": ".py",
   "mimetype": "text/x-python",
   "name": "python",
   "nbconvert_exporter": "python",
   "pygments_lexer": "ipython3",
   "version": "3.9.2"
  }
 },
 "nbformat": 4,
 "nbformat_minor": 5
}
