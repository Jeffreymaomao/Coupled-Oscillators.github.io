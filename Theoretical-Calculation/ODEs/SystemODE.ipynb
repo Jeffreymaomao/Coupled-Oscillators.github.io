{
 "cells": [
  {
   "cell_type": "markdown",
   "id": "89b017ef",
   "metadata": {},
   "source": [
    "# System for the 2nd order Ordinary Differential Equation"
   ]
  },
  {
   "cell_type": "code",
   "execution_count": 7,
   "id": "78d69a79",
   "metadata": {},
   "outputs": [],
   "source": [
    "from sympy import symbols, Eq, dsolve, Function, Matrix, Symbol"
   ]
  },
  {
   "cell_type": "code",
   "execution_count": 34,
   "id": "0be20524",
   "metadata": {},
   "outputs": [],
   "source": [
    "x1, x2 = symbols(\"x1 x_2\", cls=Function)\n",
    "t, k1, k2, k3, m1, m2 = symbols(\"t k_1 k_2 k_3 m_1 m_2\")\n",
    "system = [\n",
    "    Eq(x1(t).diff(t,2), -(k1+k2)/m1 * x1(t) + k2/m1 * x2(t)),\n",
    "    Eq(x2(t).diff(t,2), + k2/m2 * x1(t) -(k2+k3)/m2 * x2(t))\n",
    "]\n",
    "# ics = {V(0): V0, I(0): I0}\n",
    "solution = dsolve(system, [x1(t), x2(t)])"
   ]
  },
  {
   "cell_type": "code",
   "execution_count": 36,
   "id": "7e26e43a",
   "metadata": {},
   "outputs": [
    {
     "data": {
      "text/latex": [
       "$\\displaystyle x_{1}{\\left(t \\right)} = \\frac{\\sqrt{2} C_{1} k_{2} m_{2}^{2} \\sqrt{- \\frac{m_{1} \\left(k_{2} + k_{3}\\right) + m_{2} \\left(k_{1} + k_{2}\\right) + \\sqrt{k_{1}^{2} m_{2}^{2} - 2 k_{1} m_{2} \\left(k_{2} \\left(m_{1} - m_{2}\\right) + k_{3} m_{1}\\right) + k_{2}^{2} \\left(m_{1}^{2} + 2 m_{1} m_{2} + m_{2}^{2}\\right) + 2 k_{2} k_{3} m_{1} \\left(m_{1} - m_{2}\\right) + k_{3}^{2} m_{1}^{2}}}{m_{1} m_{2}}} e^{\\frac{\\sqrt{2} t \\sqrt{- \\frac{k_{1}}{m_{1}} - \\frac{k_{2}}{m_{2}} - \\frac{k_{2}}{m_{1}} - \\frac{k_{3}}{m_{2}} - \\frac{\\sqrt{k_{1}^{2} m_{2}^{2} - 2 k_{1} k_{2} m_{1} m_{2} + 2 k_{1} k_{2} m_{2}^{2} - 2 k_{1} k_{3} m_{1} m_{2} + k_{2}^{2} m_{1}^{2} + 2 k_{2}^{2} m_{1} m_{2} + k_{2}^{2} m_{2}^{2} + 2 k_{2} k_{3} m_{1}^{2} - 2 k_{2} k_{3} m_{1} m_{2} + k_{3}^{2} m_{1}^{2}}}{m_{1} m_{2}}}}{2}}}{- k_{1} m_{2} \\left(k_{2} + k_{3}\\right) + k_{2}^{2} \\left(m_{1} + m_{2}\\right) + k_{2} \\left(k_{3} \\cdot \\left(2 m_{1} - m_{2}\\right) + \\sqrt{k_{1}^{2} m_{2}^{2} - 2 k_{1} m_{2} \\left(k_{2} \\left(m_{1} - m_{2}\\right) + k_{3} m_{1}\\right) + k_{2}^{2} \\left(m_{1}^{2} + 2 m_{1} m_{2} + m_{2}^{2}\\right) + 2 k_{2} k_{3} m_{1} \\left(m_{1} - m_{2}\\right) + k_{3}^{2} m_{1}^{2}}\\right) + k_{3}^{2} m_{1} + k_{3} \\sqrt{k_{1}^{2} m_{2}^{2} - 2 k_{1} m_{2} \\left(k_{2} \\left(m_{1} - m_{2}\\right) + k_{3} m_{1}\\right) + k_{2}^{2} \\left(m_{1}^{2} + 2 m_{1} m_{2} + m_{2}^{2}\\right) + 2 k_{2} k_{3} m_{1} \\left(m_{1} - m_{2}\\right) + k_{3}^{2} m_{1}^{2}}} - \\frac{\\sqrt{2} C_{2} k_{2} m_{2}^{2} \\sqrt{- \\frac{m_{1} \\left(k_{2} + k_{3}\\right) + m_{2} \\left(k_{1} + k_{2}\\right) - \\sqrt{k_{1}^{2} m_{2}^{2} - 2 k_{1} m_{2} \\left(k_{2} \\left(m_{1} - m_{2}\\right) + k_{3} m_{1}\\right) + k_{2}^{2} \\left(m_{1}^{2} + 2 m_{1} m_{2} + m_{2}^{2}\\right) + 2 k_{2} k_{3} m_{1} \\left(m_{1} - m_{2}\\right) + k_{3}^{2} m_{1}^{2}}}{m_{1} m_{2}}} e^{- \\frac{\\sqrt{2} t \\sqrt{- \\frac{k_{1}}{m_{1}} - \\frac{k_{2}}{m_{2}} - \\frac{k_{2}}{m_{1}} - \\frac{k_{3}}{m_{2}} + \\frac{\\sqrt{k_{1}^{2} m_{2}^{2} - 2 k_{1} k_{2} m_{1} m_{2} + 2 k_{1} k_{2} m_{2}^{2} - 2 k_{1} k_{3} m_{1} m_{2} + k_{2}^{2} m_{1}^{2} + 2 k_{2}^{2} m_{1} m_{2} + k_{2}^{2} m_{2}^{2} + 2 k_{2} k_{3} m_{1}^{2} - 2 k_{2} k_{3} m_{1} m_{2} + k_{3}^{2} m_{1}^{2}}}{m_{1} m_{2}}}}{2}}}{- k_{1} m_{2} \\left(k_{2} + k_{3}\\right) + k_{2}^{2} \\left(m_{1} + m_{2}\\right) + k_{2} \\left(k_{3} \\cdot \\left(2 m_{1} - m_{2}\\right) - \\sqrt{k_{1}^{2} m_{2}^{2} - 2 k_{1} m_{2} \\left(k_{2} \\left(m_{1} - m_{2}\\right) + k_{3} m_{1}\\right) + k_{2}^{2} \\left(m_{1}^{2} + 2 m_{1} m_{2} + m_{2}^{2}\\right) + 2 k_{2} k_{3} m_{1} \\left(m_{1} - m_{2}\\right) + k_{3}^{2} m_{1}^{2}}\\right) + k_{3}^{2} m_{1} - k_{3} \\sqrt{k_{1}^{2} m_{2}^{2} - 2 k_{1} m_{2} \\left(k_{2} \\left(m_{1} - m_{2}\\right) + k_{3} m_{1}\\right) + k_{2}^{2} \\left(m_{1}^{2} + 2 m_{1} m_{2} + m_{2}^{2}\\right) + 2 k_{2} k_{3} m_{1} \\left(m_{1} - m_{2}\\right) + k_{3}^{2} m_{1}^{2}}} + \\frac{\\sqrt{2} C_{3} k_{2} m_{2}^{2} \\sqrt{- \\frac{m_{1} \\left(k_{2} + k_{3}\\right) + m_{2} \\left(k_{1} + k_{2}\\right) - \\sqrt{k_{1}^{2} m_{2}^{2} - 2 k_{1} m_{2} \\left(k_{2} \\left(m_{1} - m_{2}\\right) + k_{3} m_{1}\\right) + k_{2}^{2} \\left(m_{1}^{2} + 2 m_{1} m_{2} + m_{2}^{2}\\right) + 2 k_{2} k_{3} m_{1} \\left(m_{1} - m_{2}\\right) + k_{3}^{2} m_{1}^{2}}}{m_{1} m_{2}}} e^{\\frac{\\sqrt{2} t \\sqrt{- \\frac{k_{1}}{m_{1}} - \\frac{k_{2}}{m_{2}} - \\frac{k_{2}}{m_{1}} - \\frac{k_{3}}{m_{2}} + \\frac{\\sqrt{k_{1}^{2} m_{2}^{2} - 2 k_{1} k_{2} m_{1} m_{2} + 2 k_{1} k_{2} m_{2}^{2} - 2 k_{1} k_{3} m_{1} m_{2} + k_{2}^{2} m_{1}^{2} + 2 k_{2}^{2} m_{1} m_{2} + k_{2}^{2} m_{2}^{2} + 2 k_{2} k_{3} m_{1}^{2} - 2 k_{2} k_{3} m_{1} m_{2} + k_{3}^{2} m_{1}^{2}}}{m_{1} m_{2}}}}{2}}}{- k_{1} m_{2} \\left(k_{2} + k_{3}\\right) + k_{2}^{2} \\left(m_{1} + m_{2}\\right) + k_{2} \\left(k_{3} \\cdot \\left(2 m_{1} - m_{2}\\right) - \\sqrt{k_{1}^{2} m_{2}^{2} - 2 k_{1} m_{2} \\left(k_{2} \\left(m_{1} - m_{2}\\right) + k_{3} m_{1}\\right) + k_{2}^{2} \\left(m_{1}^{2} + 2 m_{1} m_{2} + m_{2}^{2}\\right) + 2 k_{2} k_{3} m_{1} \\left(m_{1} - m_{2}\\right) + k_{3}^{2} m_{1}^{2}}\\right) + k_{3}^{2} m_{1} - k_{3} \\sqrt{k_{1}^{2} m_{2}^{2} - 2 k_{1} m_{2} \\left(k_{2} \\left(m_{1} - m_{2}\\right) + k_{3} m_{1}\\right) + k_{2}^{2} \\left(m_{1}^{2} + 2 m_{1} m_{2} + m_{2}^{2}\\right) + 2 k_{2} k_{3} m_{1} \\left(m_{1} - m_{2}\\right) + k_{3}^{2} m_{1}^{2}}} - \\frac{\\sqrt{2} C_{4} k_{2} m_{2}^{2} \\sqrt{- \\frac{m_{1} \\left(k_{2} + k_{3}\\right) + m_{2} \\left(k_{1} + k_{2}\\right) + \\sqrt{k_{1}^{2} m_{2}^{2} - 2 k_{1} m_{2} \\left(k_{2} \\left(m_{1} - m_{2}\\right) + k_{3} m_{1}\\right) + k_{2}^{2} \\left(m_{1}^{2} + 2 m_{1} m_{2} + m_{2}^{2}\\right) + 2 k_{2} k_{3} m_{1} \\left(m_{1} - m_{2}\\right) + k_{3}^{2} m_{1}^{2}}}{m_{1} m_{2}}} e^{- \\frac{\\sqrt{2} t \\sqrt{- \\frac{k_{1}}{m_{1}} - \\frac{k_{2}}{m_{2}} - \\frac{k_{2}}{m_{1}} - \\frac{k_{3}}{m_{2}} - \\frac{\\sqrt{k_{1}^{2} m_{2}^{2} - 2 k_{1} k_{2} m_{1} m_{2} + 2 k_{1} k_{2} m_{2}^{2} - 2 k_{1} k_{3} m_{1} m_{2} + k_{2}^{2} m_{1}^{2} + 2 k_{2}^{2} m_{1} m_{2} + k_{2}^{2} m_{2}^{2} + 2 k_{2} k_{3} m_{1}^{2} - 2 k_{2} k_{3} m_{1} m_{2} + k_{3}^{2} m_{1}^{2}}}{m_{1} m_{2}}}}{2}}}{- k_{1} m_{2} \\left(k_{2} + k_{3}\\right) + k_{2}^{2} \\left(m_{1} + m_{2}\\right) + k_{2} \\left(k_{3} \\cdot \\left(2 m_{1} - m_{2}\\right) + \\sqrt{k_{1}^{2} m_{2}^{2} - 2 k_{1} m_{2} \\left(k_{2} \\left(m_{1} - m_{2}\\right) + k_{3} m_{1}\\right) + k_{2}^{2} \\left(m_{1}^{2} + 2 m_{1} m_{2} + m_{2}^{2}\\right) + 2 k_{2} k_{3} m_{1} \\left(m_{1} - m_{2}\\right) + k_{3}^{2} m_{1}^{2}}\\right) + k_{3}^{2} m_{1} + k_{3} \\sqrt{k_{1}^{2} m_{2}^{2} - 2 k_{1} m_{2} \\left(k_{2} \\left(m_{1} - m_{2}\\right) + k_{3} m_{1}\\right) + k_{2}^{2} \\left(m_{1}^{2} + 2 m_{1} m_{2} + m_{2}^{2}\\right) + 2 k_{2} k_{3} m_{1} \\left(m_{1} - m_{2}\\right) + k_{3}^{2} m_{1}^{2}}}$"
      ],
      "text/plain": [
       "Eq(x1(t), sqrt(2)*C1*k_2*m_2**2*sqrt(-(m_1*(k_2 + k_3) + m_2*(k_1 + k_2) + sqrt(k_1**2*m_2**2 - 2*k_1*m_2*(k_2*(m_1 - m_2) + k_3*m_1) + k_2**2*(m_1**2 + 2*m_1*m_2 + m_2**2) + 2*k_2*k_3*m_1*(m_1 - m_2) + k_3**2*m_1**2))/(m_1*m_2))*exp(sqrt(2)*t*sqrt(-k_1/m_1 - k_2/m_2 - k_2/m_1 - k_3/m_2 - sqrt(k_1**2*m_2**2 - 2*k_1*k_2*m_1*m_2 + 2*k_1*k_2*m_2**2 - 2*k_1*k_3*m_1*m_2 + k_2**2*m_1**2 + 2*k_2**2*m_1*m_2 + k_2**2*m_2**2 + 2*k_2*k_3*m_1**2 - 2*k_2*k_3*m_1*m_2 + k_3**2*m_1**2)/(m_1*m_2))/2)/(-k_1*m_2*(k_2 + k_3) + k_2**2*(m_1 + m_2) + k_2*(k_3*(2*m_1 - m_2) + sqrt(k_1**2*m_2**2 - 2*k_1*m_2*(k_2*(m_1 - m_2) + k_3*m_1) + k_2**2*(m_1**2 + 2*m_1*m_2 + m_2**2) + 2*k_2*k_3*m_1*(m_1 - m_2) + k_3**2*m_1**2)) + k_3**2*m_1 + k_3*sqrt(k_1**2*m_2**2 - 2*k_1*m_2*(k_2*(m_1 - m_2) + k_3*m_1) + k_2**2*(m_1**2 + 2*m_1*m_2 + m_2**2) + 2*k_2*k_3*m_1*(m_1 - m_2) + k_3**2*m_1**2)) - sqrt(2)*C2*k_2*m_2**2*sqrt(-(m_1*(k_2 + k_3) + m_2*(k_1 + k_2) - sqrt(k_1**2*m_2**2 - 2*k_1*m_2*(k_2*(m_1 - m_2) + k_3*m_1) + k_2**2*(m_1**2 + 2*m_1*m_2 + m_2**2) + 2*k_2*k_3*m_1*(m_1 - m_2) + k_3**2*m_1**2))/(m_1*m_2))*exp(-sqrt(2)*t*sqrt(-k_1/m_1 - k_2/m_2 - k_2/m_1 - k_3/m_2 + sqrt(k_1**2*m_2**2 - 2*k_1*k_2*m_1*m_2 + 2*k_1*k_2*m_2**2 - 2*k_1*k_3*m_1*m_2 + k_2**2*m_1**2 + 2*k_2**2*m_1*m_2 + k_2**2*m_2**2 + 2*k_2*k_3*m_1**2 - 2*k_2*k_3*m_1*m_2 + k_3**2*m_1**2)/(m_1*m_2))/2)/(-k_1*m_2*(k_2 + k_3) + k_2**2*(m_1 + m_2) + k_2*(k_3*(2*m_1 - m_2) - sqrt(k_1**2*m_2**2 - 2*k_1*m_2*(k_2*(m_1 - m_2) + k_3*m_1) + k_2**2*(m_1**2 + 2*m_1*m_2 + m_2**2) + 2*k_2*k_3*m_1*(m_1 - m_2) + k_3**2*m_1**2)) + k_3**2*m_1 - k_3*sqrt(k_1**2*m_2**2 - 2*k_1*m_2*(k_2*(m_1 - m_2) + k_3*m_1) + k_2**2*(m_1**2 + 2*m_1*m_2 + m_2**2) + 2*k_2*k_3*m_1*(m_1 - m_2) + k_3**2*m_1**2)) + sqrt(2)*C3*k_2*m_2**2*sqrt(-(m_1*(k_2 + k_3) + m_2*(k_1 + k_2) - sqrt(k_1**2*m_2**2 - 2*k_1*m_2*(k_2*(m_1 - m_2) + k_3*m_1) + k_2**2*(m_1**2 + 2*m_1*m_2 + m_2**2) + 2*k_2*k_3*m_1*(m_1 - m_2) + k_3**2*m_1**2))/(m_1*m_2))*exp(sqrt(2)*t*sqrt(-k_1/m_1 - k_2/m_2 - k_2/m_1 - k_3/m_2 + sqrt(k_1**2*m_2**2 - 2*k_1*k_2*m_1*m_2 + 2*k_1*k_2*m_2**2 - 2*k_1*k_3*m_1*m_2 + k_2**2*m_1**2 + 2*k_2**2*m_1*m_2 + k_2**2*m_2**2 + 2*k_2*k_3*m_1**2 - 2*k_2*k_3*m_1*m_2 + k_3**2*m_1**2)/(m_1*m_2))/2)/(-k_1*m_2*(k_2 + k_3) + k_2**2*(m_1 + m_2) + k_2*(k_3*(2*m_1 - m_2) - sqrt(k_1**2*m_2**2 - 2*k_1*m_2*(k_2*(m_1 - m_2) + k_3*m_1) + k_2**2*(m_1**2 + 2*m_1*m_2 + m_2**2) + 2*k_2*k_3*m_1*(m_1 - m_2) + k_3**2*m_1**2)) + k_3**2*m_1 - k_3*sqrt(k_1**2*m_2**2 - 2*k_1*m_2*(k_2*(m_1 - m_2) + k_3*m_1) + k_2**2*(m_1**2 + 2*m_1*m_2 + m_2**2) + 2*k_2*k_3*m_1*(m_1 - m_2) + k_3**2*m_1**2)) - sqrt(2)*C4*k_2*m_2**2*sqrt(-(m_1*(k_2 + k_3) + m_2*(k_1 + k_2) + sqrt(k_1**2*m_2**2 - 2*k_1*m_2*(k_2*(m_1 - m_2) + k_3*m_1) + k_2**2*(m_1**2 + 2*m_1*m_2 + m_2**2) + 2*k_2*k_3*m_1*(m_1 - m_2) + k_3**2*m_1**2))/(m_1*m_2))*exp(-sqrt(2)*t*sqrt(-k_1/m_1 - k_2/m_2 - k_2/m_1 - k_3/m_2 - sqrt(k_1**2*m_2**2 - 2*k_1*k_2*m_1*m_2 + 2*k_1*k_2*m_2**2 - 2*k_1*k_3*m_1*m_2 + k_2**2*m_1**2 + 2*k_2**2*m_1*m_2 + k_2**2*m_2**2 + 2*k_2*k_3*m_1**2 - 2*k_2*k_3*m_1*m_2 + k_3**2*m_1**2)/(m_1*m_2))/2)/(-k_1*m_2*(k_2 + k_3) + k_2**2*(m_1 + m_2) + k_2*(k_3*(2*m_1 - m_2) + sqrt(k_1**2*m_2**2 - 2*k_1*m_2*(k_2*(m_1 - m_2) + k_3*m_1) + k_2**2*(m_1**2 + 2*m_1*m_2 + m_2**2) + 2*k_2*k_3*m_1*(m_1 - m_2) + k_3**2*m_1**2)) + k_3**2*m_1 + k_3*sqrt(k_1**2*m_2**2 - 2*k_1*m_2*(k_2*(m_1 - m_2) + k_3*m_1) + k_2**2*(m_1**2 + 2*m_1*m_2 + m_2**2) + 2*k_2*k_3*m_1*(m_1 - m_2) + k_3**2*m_1**2)))"
      ]
     },
     "execution_count": 36,
     "metadata": {},
     "output_type": "execute_result"
    }
   ],
   "source": [
    "solution[0]"
   ]
  },
  {
   "cell_type": "code",
   "execution_count": 46,
   "id": "78da2a86",
   "metadata": {},
   "outputs": [],
   "source": [
    "x1, x2 = symbols(\"x1 x_2\", cls=Function)\n",
    "t, k1, k2, k3, m1, m2, lambd = symbols(\"t k_1 k_2 k_3 m_1 m_2 \\\\lambda\")\n",
    "system = [\n",
    "    Eq(x1(t).diff(t,2), lambd * x1(t) + 1 * x2(t)),\n",
    "    Eq(x2(t).diff(t,2), + 1 * x1(t) + lambd * x2(t))\n",
    "]\n",
    "# ics = {V(0): V0, I(0): I0}\n",
    "solution = dsolve(system, [x1(t), x2(t)])"
   ]
  },
  {
   "cell_type": "code",
   "execution_count": 47,
   "id": "2bcb5790",
   "metadata": {},
   "outputs": [
    {
     "data": {
      "text/latex": [
       "$\\displaystyle x_{1}{\\left(t \\right)} = \\frac{C_{1} e^{- t \\sqrt{\\lambda - 1}}}{\\sqrt{\\lambda - 1}} - \\frac{C_{2} e^{t \\sqrt{\\lambda - 1}}}{\\sqrt{\\lambda - 1}} - \\frac{C_{3} e^{- t \\sqrt{\\lambda + 1}}}{\\sqrt{\\lambda + 1}} + \\frac{C_{4} e^{t \\sqrt{\\lambda + 1}}}{\\sqrt{\\lambda + 1}}$"
      ],
      "text/plain": [
       "Eq(x1(t), C1*exp(-t*sqrt(\\lambda - 1))/sqrt(\\lambda - 1) - C2*exp(t*sqrt(\\lambda - 1))/sqrt(\\lambda - 1) - C3*exp(-t*sqrt(\\lambda + 1))/sqrt(\\lambda + 1) + C4*exp(t*sqrt(\\lambda + 1))/sqrt(\\lambda + 1))"
      ]
     },
     "execution_count": 47,
     "metadata": {},
     "output_type": "execute_result"
    }
   ],
   "source": [
    "solution[0]"
   ]
  },
  {
   "cell_type": "code",
   "execution_count": 41,
   "id": "d2805bd7",
   "metadata": {},
   "outputs": [
    {
     "data": {
      "text/latex": [
       "$\\displaystyle x_{2}{\\left(t \\right)} = - \\frac{\\sqrt{3} C_{1} e^{- \\sqrt{3} t}}{3} + \\frac{\\sqrt{3} C_{2} e^{\\sqrt{3} t}}{3} + C_{3} \\sin{\\left(t \\right)} + C_{4} \\cos{\\left(t \\right)}$"
      ],
      "text/plain": [
       "Eq(x_2(t), -sqrt(3)*C1*exp(-sqrt(3)*t)/3 + sqrt(3)*C2*exp(sqrt(3)*t)/3 + C3*sin(t) + C4*cos(t))"
      ]
     },
     "execution_count": 41,
     "metadata": {},
     "output_type": "execute_result"
    }
   ],
   "source": [
    "solution[1]"
   ]
  },
  {
   "cell_type": "code",
   "execution_count": null,
   "id": "4c9e4b92",
   "metadata": {},
   "outputs": [],
   "source": []
  },
  {
   "cell_type": "code",
   "execution_count": null,
   "id": "c43a431f",
   "metadata": {},
   "outputs": [],
   "source": []
  },
  {
   "cell_type": "code",
   "execution_count": null,
   "id": "01384376",
   "metadata": {},
   "outputs": [],
   "source": []
  },
  {
   "cell_type": "code",
   "execution_count": 26,
   "id": "b1bc810b",
   "metadata": {},
   "outputs": [],
   "source": [
    "A1, A2, B1, B2, omega1, omega2 = symbols(\"A_1 A_2 B_1 B_2 \\\\omega_1 \\\\omega_2\")\n",
    "mu1 = Matrix([Symbol(\"\\\\mu_{1,1}\"),Symbol(\"\\\\mu_{2,1}\")])\n",
    "mu2 = Matrix([Symbol(\"\\\\mu_{1,2}\"),Symbol(\"\\\\mu_{2,2}\")])\n",
    "mu = Matrix([mu1.T,mu2.T]).T"
   ]
  },
  {
   "cell_type": "code",
   "execution_count": 27,
   "id": "1ecc97c6",
   "metadata": {},
   "outputs": [
    {
     "data": {
      "text/latex": [
       "$\\displaystyle \\left[\\begin{matrix}A_{1} + B_{1}\\\\A_{2} + B_{2}\\end{matrix}\\right]$"
      ],
      "text/plain": [
       "Matrix([\n",
       "[A_1 + B_1],\n",
       "[A_2 + B_2]])"
      ]
     },
     "execution_count": 27,
     "metadata": {},
     "output_type": "execute_result"
    }
   ],
   "source": [
    "Matrix([[A1,B1],[A2,B2]]) * Matrix([1,1])"
   ]
  },
  {
   "cell_type": "code",
   "execution_count": 52,
   "id": "d8a400e9",
   "metadata": {},
   "outputs": [
    {
     "data": {
      "text/latex": [
       "$\\displaystyle \\left[\\begin{matrix}A_{1} \\omega_{1} - B_{1} \\omega_{1}\\\\A_{2} \\omega_{2} - B_{2} \\omega_{2}\\end{matrix}\\right]$"
      ],
      "text/plain": [
       "Matrix([\n",
       "[A_1*\\omega_1 - B_1*\\omega_1],\n",
       "[A_2*\\omega_2 - B_2*\\omega_2]])"
      ]
     },
     "execution_count": 52,
     "metadata": {},
     "output_type": "execute_result"
    }
   ],
   "source": [
    " Matrix([[omega1,0],[0,omega2]]) * Matrix([[A1,B1],[A2,B2]])  * Matrix([1,-1])"
   ]
  },
  {
   "cell_type": "code",
   "execution_count": 57,
   "id": "7964fba6",
   "metadata": {},
   "outputs": [
    {
     "data": {
      "text/latex": [
       "$\\displaystyle \\left[\\begin{matrix}\\frac{1}{2} & \\frac{1}{2}\\\\\\frac{1}{2} & - \\frac{1}{2}\\end{matrix}\\right]$"
      ],
      "text/plain": [
       "Matrix([\n",
       "[1/2,  1/2],\n",
       "[1/2, -1/2]])"
      ]
     },
     "execution_count": 57,
     "metadata": {},
     "output_type": "execute_result"
    }
   ],
   "source": [
    "Matrix([[1,1],[1,-1]]).inv()"
   ]
  },
  {
   "cell_type": "code",
   "execution_count": 58,
   "id": "2adb20b3",
   "metadata": {},
   "outputs": [
    {
     "data": {
      "text/latex": [
       "$\\displaystyle -2$"
      ],
      "text/plain": [
       "-2"
      ]
     },
     "execution_count": 58,
     "metadata": {},
     "output_type": "execute_result"
    }
   ],
   "source": [
    "Matrix([[1,1],[1,-1]]).det()"
   ]
  }
 ],
 "metadata": {
  "kernelspec": {
   "display_name": "Python 3",
   "language": "python",
   "name": "python3"
  },
  "language_info": {
   "codemirror_mode": {
    "name": "ipython",
    "version": 3
   },
   "file_extension": ".py",
   "mimetype": "text/x-python",
   "name": "python",
   "nbconvert_exporter": "python",
   "pygments_lexer": "ipython3",
   "version": "3.9.2"
  }
 },
 "nbformat": 4,
 "nbformat_minor": 5
}
