{
 "cells": [
  {
   "cell_type": "code",
   "execution_count": 1,
   "id": "ee985c96",
   "metadata": {},
   "outputs": [],
   "source": [
    "import numpy as np\n",
    "import os\n",
    "import re\n",
    "import matplotlib.pyplot as plt\n",
    "from numpy import pi,sqrt,exp,cos,sin,array\n",
    "from numpy.linalg import inv\n",
    "from lib.Model import *\n",
    "plt.rcParams.update({\n",
    "    \"font.family\": \"Times New Roman\",\n",
    "    \"font.size\": 13,\n",
    "    \"text.usetex\": True,\n",
    "    \"text.latex.preamble\": r\"\\usepackage{amsfonts}\",\n",
    "    \"lines.linewidth\": 1\n",
    "})"
   ]
  },
  {
   "cell_type": "code",
   "execution_count": 16,
   "id": "c3a009a9",
   "metadata": {},
   "outputs": [],
   "source": [
    "def mkimg(k=(1.0,1.0,1.0),m=(1.0,1.0),dt=0.01,t_end=40,x1_i=1.0,x2_i=1.0,plot=False):\n",
    "    # numerical solution\n",
    "    \n",
    "    (t, x1,x2,v1,v2) = Model(k=(k1, k2, k3),m=(m1, m2),dt=dt,t_end=t_end,x1_i=x1_i,x2_i=x2_i,v1_i=0,v2_i=0)\n",
    "    \n",
    "    # Eigenmode expansion\n",
    "    trF  = -(m2*k1 + (m1+m2)*k2 + m1*k3)/(m1*m2)\n",
    "    detF =  (k1*k2 + k2*k3 + k3*k1)/(m1*m2)\n",
    "    (lda1,lda2) = ((trF +sqrt(trF*trF-4*detF))/2, (trF -sqrt(trF*trF-4*detF))/2)\n",
    "    (omega1,omega2) = (sqrt(-lda1),sqrt(-lda2)) \n",
    "    (mu1,mu2) = (array([[m2*lda1+(k2+k3)], [k2]]),array([[m2*lda2+(k2+k3)], [k2]]))\n",
    "    M = np.hstack([mu1,mu2])\n",
    "    invM = inv(M)\n",
    "    C = invM@array([[x1_i],[x2_i]])\n",
    "    (C1,C2) = (C[0][0],C[1][0])\n",
    "    psi = C1*cos(omega1*t)*mu1 + C2*cos(omega2*t)*mu2\n",
    "    (psi1,psi2) = (psi[0],psi[1])\n",
    "\n",
    "    step1 = 30\n",
    "    # --- plot -----------------------------------------------------------------------------\n",
    "    fig = plt.figure(figsize=(6,4),dpi=200)\n",
    "    ax1 = fig.add_subplot(2,1,1)\n",
    "    ax2 = fig.add_subplot(2,1,2)\n",
    "    marker1 = '--'\n",
    "    marker2 = '-'\n",
    "    zorder1 = 2\n",
    "    zorder2 = 1\n",
    "    linewidth1 = 1.5\n",
    "    linewidth2 = 1\n",
    "    ax1.plot(t,x1,marker1   ,color='r', label='numerical solution of $x_1$',  linewidth=linewidth1,zorder=zorder1)\n",
    "    ax1.plot(t,psi1,marker2 ,color='k', label='eigenmode expansion of $x_2$', linewidth=linewidth2,zorder=zorder2)\n",
    "\n",
    "    ax2.plot(t,x2,marker1   ,color='b', label='numerical solution of $x_2$',  linewidth=linewidth1,zorder=zorder1)\n",
    "    ax2.plot(t,psi2,marker2 ,color='k', label='eigenmode expansion of $x_2$', linewidth=linewidth2,zorder=zorder2)\n",
    "\n",
    "    [[[ax1,ax2][i].set_xlabel(\"$t$\"),[ax1,ax2][i].set_ylabel(f\"$x_{i+1}$\")] for i in [0,1]]\n",
    "    ax1.legend(loc='upper right')\n",
    "    ax2.legend(loc='upper right')\n",
    "    fig.tight_layout()\n",
    "    if plot:\n",
    "        plt.show()\n",
    "    else:\n",
    "        plt.close()\n",
    "    name = f\"(k1,k2,k3)=({k1},{k2},{k3}),(m1,m2)=({m1},{m2}),(x1_i,x1_2)=({x1_i},{x2_i}).pdf\"\n",
    "    fig.savefig(\"img/\"+name)\n",
    "    print(\"save image as :\", name)\n",
    "\n",
    "def print2LaTex(file=None):\n",
    "    imgs = next(os.walk(\"./img\"), (None, None, []))[2]\n",
    "    for img in imgs:\n",
    "        matches = re.findall(r'\\((.*?)\\)', img)\n",
    "        if(img[-4:]!=\".pdf\"):\n",
    "            continue\n",
    "        (k1,k2,k3)  = matches[1].split(',')\n",
    "        (m1,m2)     = matches[3].split(',')\n",
    "        (x1_i,x1_2) = matches[5].split(',')\n",
    "        matches = re.findall(r'\\((.*?)\\)', img)\n",
    "        print(r\"\"\"\n",
    "        \\begin{figure}[H]\n",
    "            \\centering\n",
    "            \\includegraphics[width=0.9\\linewidth]{../Numerical-Calculation/img/%s}\n",
    "            \\caption{Motion curve for $\\left(k_1,k_2,k_3\\right)=\\left(%s,%s,%s\\right)$, $\\left(m_1,m_2\\right)=\\left(%s,%s\\right)$ and the intial consition $\\left(x_{1}(0),x_2(0)\\right)=\\left(%s,%s\\right)$}\n",
    "        \\end{figure}\"\"\"%(img,k1,k2,k3,m1,m2,x1_i,x2_i),file=file)"
   ]
  },
  {
   "cell_type": "code",
   "execution_count": 17,
   "id": "92d1985e",
   "metadata": {},
   "outputs": [
    {
     "name": "stdout",
     "output_type": "stream",
     "text": [
      "save image as : (k1,k2,k3)=(1.0,1.0,1.0),(m1,m2)=(1.0,1.0),(x1_i,x1_2)=(1.0,1.0).pdf\n",
      "save image as : (k1,k2,k3)=(1.0,1.0,1.0),(m1,m2)=(1.0,1.0),(x1_i,x1_2)=(1.0,-1.0).pdf\n",
      "save image as : (k1,k2,k3)=(4.0,1.0,4.0),(m1,m2)=(0.5,0.5),(x1_i,x1_2)=(0.0,1.0).pdf\n",
      "save image as : (k1,k2,k3)=(2.0,0.5,3.0),(m1,m2)=(1.0,1.0),(x1_i,x1_2)=(1.0,-1.0).pdf\n"
     ]
    }
   ],
   "source": [
    "\"\"\"\n",
    "    (k1, k2, k3),  (m1, m2),  (x1_i,x2_i)\n",
    "\"\"\"\n",
    "!rm ./img/*.pdf\n",
    "BCs = [\n",
    "    ((1.0, 1.0, 1.0), (1.0, 1.0), (1.0, 1.0)),\n",
    "    ((1.0, 1.0, 1.0), (1.0, 1.0), (1.0, -1.0)),\n",
    "    ((4.0, 1.0, 4.0), (0.5, 0.5), (0.0, 1.0)),\n",
    "    ((2.0, 0.5, 3.0), (1.0, 1.0), (1.0, -1.0)),\n",
    "]\n",
    "for BC in BCs:\n",
    "    ((k1, k2, k3),(m1, m2),(x1_i,x2_i)) = BC\n",
    "    mkimg(k=(k1, k2, k3),m=(m1, m2),dt=0.01,t_end=30,x1_i=x1_i,x2_i=x2_i)\n",
    "\n",
    "file = open(\"./../Theoretical-Calculation/numerical-result.tex\", 'w')\n",
    "print2LaTex(file=file)\n",
    "file.close()"
   ]
  },
  {
   "cell_type": "code",
   "execution_count": null,
   "id": "973ac392",
   "metadata": {},
   "outputs": [],
   "source": []
  },
  {
   "cell_type": "code",
   "execution_count": null,
   "id": "c8b5ab56",
   "metadata": {},
   "outputs": [],
   "source": []
  }
 ],
 "metadata": {
  "kernelspec": {
   "display_name": "Python 3",
   "language": "python",
   "name": "python3"
  },
  "language_info": {
   "codemirror_mode": {
    "name": "ipython",
    "version": 3
   },
   "file_extension": ".py",
   "mimetype": "text/x-python",
   "name": "python",
   "nbconvert_exporter": "python",
   "pygments_lexer": "ipython3",
   "version": "3.9.2"
  }
 },
 "nbformat": 4,
 "nbformat_minor": 5
}
